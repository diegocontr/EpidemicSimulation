{
 "cells": [
  {
   "cell_type": "code",
   "execution_count": 1,
   "id": "9fd7f376",
   "metadata": {},
   "outputs": [],
   "source": [
    "import numpy as np\n",
    "import matplotlib.pyplot as plt\n",
    "import numpy.random as nprm\n",
    "import pandas as pd\n",
    "import networkx as nx\n",
    "import shelve as sl\n",
    "import seaborn as sns\n",
    "import scipy as sp\n",
    "\n",
    "\n",
    "import EpiKit as epi\n",
    "import covid_model as covid"
   ]
  },
  {
   "cell_type": "markdown",
   "id": "d88a35d7",
   "metadata": {},
   "source": [
    "# Demostration notebook"
   ]
  },
  {
   "cell_type": "markdown",
   "id": "c89454eb",
   "metadata": {},
   "source": [
    "In this notebook we implement the simulation of a COVID agent model.\n",
    "First we define two dictionaries with the values of different parameters. `ParamSim` contains parameters for the preparation of the simulation in general, and `ParamTest` contains parameters for the testing protocols.\n"
   ]
  },
  {
   "cell_type": "code",
   "execution_count": 2,
   "id": "41027bea",
   "metadata": {},
   "outputs": [],
   "source": [
    "\n",
    "ParamSim = {'R0': 3.0,\n",
    "            'generation':1,\n",
    "            'tmax': 60,\n",
    "            'protocol': 'ST',\n",
    "            'imm': 0,\n",
    "            'weekdays':2,\n",
    "            'E(t=0)': 1,\n",
    "            'vax': '93p',\n",
    "            'rvax': 0,\n",
    "            'vax_selection': True,\n",
    "            'weekden': 2,\n",
    "            'net': 'DYN',\n",
    "            'r_period': 1.0,\n",
    "            }\n",
    "\n",
    "ParamTest = {'W': 7,\n",
    "             'Ntw': 5,\n",
    "             'adhesion' : 0.5,\n",
    "             'adhesion_decay':'1.0',\n",
    "             'Delta_R' : 1,\n",
    "             'Delta_Q' : 7.0,\n",
    "             'type' :  'auto',\n",
    "             'p_detect': np.array([0.5, 0.5])}\n",
    "\n",
    "\n",
    "beta = covid.beta_from_R0(ParamSim['R0'], 'office', \n",
    "                        ParamSim['net'], ParamSim['r_period'], \n",
    "                        ParamSim['weekdays'], ParamSim['generation'])"
   ]
  },
  {
   "cell_type": "markdown",
   "id": "ee58d59a",
   "metadata": {},
   "source": [
    "We read the networks and create the object Graph that we will use to obtain interactions and time of activity in the simulation."
   ]
  },
  {
   "cell_type": "code",
   "execution_count": 3,
   "id": "d6ffe85f",
   "metadata": {},
   "outputs": [],
   "source": [
    "# reading networks\n",
    "network_folder = 'Networks/office/'\n",
    "dataset_file_dict = {'CMD': network_folder + 'daily_CMD.json.gzip',\n",
    "                      'CMB': network_folder + 'daily_CMB.json.gzip',\n",
    "                      'CMD1': network_folder + 'daily_CMD.json.gzip',\n",
    "                      'CMB1': network_folder + 'daily_CMB.json.gzip',\n",
    "                      'HET': network_folder + 'daily_HET.json.gzip',\n",
    "                      'HOM': network_folder + 'daily_HOM.json.gzip',\n",
    "                      'dHET': network_folder + 'daily_dHET.json.gzip',\n",
    "                      'DYN': network_folder + 'temporal_DYN.json.gzip',\n",
    "                      'dCM': network_folder + 'matrix_dCM.json.gzip',\n",
    "                      'CM': network_folder + 'matrix_CM.json.gzip',\n",
    "                      'FULL': network_folder + 'matrix_FULL.json.gzip',\n",
    "                      }    \n",
    "Gt,contact_meta,_ , net_type = epi.load_json_dataset(dataset_file_dict[ParamSim['net']] )\n",
    "TeachersDict = {}\n",
    "dt_G = 900\n",
    "\n",
    "ParamSim['Npop'] = contact_meta.shape[0]\n",
    "ParamTest['Npop'] = contact_meta.shape[0]\n",
    "\n",
    "net_cycle = max([ round(len(Gt)*7/5),7])\n",
    "gdic = {'Gt' : Gt,\n",
    "            'dt_sec' : dt_G,\n",
    "            'sec0': int(8*3600),\n",
    "            'secf': int(12*3600),\n",
    "            'meta' : contact_meta,\n",
    "            'TeachersDict': TeachersDict,\n",
    "            'net_cycle': net_cycle,\n",
    "            'type': net_type,\n",
    "            }\n",
    "\n",
    "Graphs = epi.GraphDataOffice(gdic)\n"
   ]
  },
  {
   "cell_type": "markdown",
   "id": "31d5c230",
   "metadata": {},
   "source": [
    "In the file `covid_model` we defined the paramers for a specific version of a compartmental model to model COVID. We imported and we create an AgentModel object which integrates its with the graphs\n"
   ]
  },
  {
   "cell_type": "code",
   "execution_count": 6,
   "id": "1d813625",
   "metadata": {},
   "outputs": [],
   "source": [
    "S = covid.S\n",
    "Param, React, S_inf, S_dict = covid.get_disease_model(beta,ParamSim,'office')\n",
    "\n",
    "Model = epi.AgentModel(Graphs, Param, React,\n",
    "                   S, S_inf, S_dict, \n",
    "                   N=ParamSim['Npop'],\n",
    "                   tmax = ParamSim['tmax'])\n",
    "\n",
    "if ParamSim['net'] in ['CMD','CMB']:\n",
    "    Model.Nodes.set_shuffle(True)\n",
    "\n",
    "elif ParamSim['net'] in ['CMD1','CMB1']:\n",
    "    Model.Nodes.set_shuffle(True)\n",
    "    Model.Nodes.Graphs.ndays = 1\n",
    "\n",
    "if ParamSim['vax_selection']:\n",
    "    Model.vax_selection = True"
   ]
  },
  {
   "cell_type": "markdown",
   "id": "2319138e",
   "metadata": {},
   "source": [
    "We define the function that creates the initial state of the system"
   ]
  },
  {
   "cell_type": "code",
   "execution_count": 7,
   "id": "2804aaa1",
   "metadata": {},
   "outputs": [],
   "source": [
    "def set_condition(Model,ParamSim):\n",
    "    \"\"\"\n",
    "    Function to prepare the initial condition of states for the nodes.\n",
    "    :param Model: AgentModel object with the simulation\n",
    "    :param ParamSim: dictionary with the parameters\n",
    "    :return:\n",
    "       An numpy array with the initial state for each node\n",
    "    \"\"\"\n",
    "    # choose vaccinated\n",
    "    if ParamSim['rvax'] > 0:\n",
    "        Model.Nodes.biogroup = 0*Model.Nodes.ind_nodes\n",
    "        nodes = Model.Nodes.ind_nodes[  ( Model.Nodes.state!='E') ]\n",
    "        Nvax = round(  ParamSim['Npop'] * ParamSim['rvax'] )\n",
    "        Model.Nodes.biogroup[ nprm.choice(nodes,   Nvax, replace=False) ] = np.zeros( Nvax ) + 1\n",
    "\n",
    "    ind_nodes = np.arange(Model.N)\n",
    "\n",
    "    # choose recovered\n",
    "    NR = round( ParamSim['imm'] * ParamSim['Npop'] )\n",
    "    nodes = np.array(['S' for i in range(Model.N)],dtype='<U4')\n",
    "    ages = Model.Nodes.biogroup\n",
    "\n",
    "    ind_R = nprm.choice(ind_nodes[nodes=='S'],  NR, replace=False )\n",
    "    nodes[ind_R] = 'R'\n",
    "\n",
    "    # choose seed\n",
    "    nodes_to_chose = ind_nodes[ (nodes=='S') & (ages==0) ]\n",
    "    prob = np.array([ Model.Nodes.sigma[i] for i in ages] )\n",
    "    prob = prob[nodes_to_chose]\n",
    "    prob = prob/prob.sum()\n",
    "    ind_E = nprm.choice( nodes_to_chose  )\n",
    "    nodes[ind_E] = 'E'\n",
    "\n",
    "    return nodes\n",
    "set_conditionP = lambda Model: set_condition(Model, ParamSim)"
   ]
  },
  {
   "cell_type": "markdown",
   "id": "c0068283",
   "metadata": {},
   "source": [
    "We assign the test object we want to use in the simulation"
   ]
  },
  {
   "cell_type": "code",
   "execution_count": 8,
   "id": "d4f65758",
   "metadata": {},
   "outputs": [],
   "source": [
    "TestDict = {'NoTest': epi.Test_None,\n",
    "            'ST' :    epi.Test_ST_office,\n",
    "            'Reg' :   epi.Test_Regular_office,\n",
    "            'TW' :    epi.Test_TW_office,\n",
    "            'TW2tw' :    epi.Test_TW_office_2tw,\n",
    "            'STRS' :    epi.Test_STRS_office,\n",
    "            'RegTW' :   epi.Test_RegTW_office,\n",
    "            }\n",
    "\n",
    "Test = TestDict['ST'](ParamTest)\n",
    "Model.set_test_protocol(Test)\n",
    "\n",
    "# starting time on t0 = 0. Otherwise, the simulation initial time is between 0 and net_cycle\n",
    "Model.Nodes.Graphs.net_cycle = 0"
   ]
  },
  {
   "cell_type": "markdown",
   "id": "8d5ed4b4",
   "metadata": {},
   "source": [
    "Finally, we can run a single simulation. and plot the evolution of its states"
   ]
  },
  {
   "cell_type": "code",
   "execution_count": 9,
   "id": "608d6460",
   "metadata": {},
   "outputs": [
    {
     "data": {
      "image/png": "[encoded data removed]",
      "text/plain": [
       "<Figure size 432x288 with 1 Axes>"
      ]
     },
     "metadata": {
      "needs_background": "light"
     },
     "output_type": "display_data"
    }
   ],
   "source": [
    "# use a random seed each time\n",
    "seed = nprm.randint(1000)\n",
    "nprm.seed(seed)                \n",
    "                \n",
    "result = Model.solve( set_condition=set_conditionP, jump_hours=0.25)\n",
    "\n",
    "                \n",
    "fig, axs = plt.subplots(1, 1, figsize=(6, 4))\n",
    "\n",
    "plt.sca(axs)\n",
    "result.plot_t()\n",
    "plt.title(\"seed={}\".format( seed))\n",
    "\n",
    "plt.show()"
   ]
  },
  {
   "cell_type": "code",
   "execution_count": null,
   "id": "a9cc8d00",
   "metadata": {},
   "outputs": [],
   "source": []
  }
 ],
 "metadata": {
  "kernelspec": {
   "display_name": "Python 3 (ipykernel)",
   "language": "python",
   "name": "python3"
  },
  "language_info": {
   "codemirror_mode": {
    "name": "ipython",
    "version": 3
   },
   "file_extension": ".py",
   "mimetype": "text/x-python",
   "name": "python",
   "nbconvert_exporter": "python",
   "pygments_lexer": "ipython3",
   "version": "3.9.12"
  }
 },
 "nbformat": 4,
 "nbformat_minor": 5
}
